{
  "cells": [
    {
      "cell_type": "code",
      "execution_count": null,
      "metadata": {
        "id": "96BnNAHT_fz_"
      },
      "outputs": [],
      "source": [
        "import pandas as pd\n",
        "import numpy as np\n",
        "import matplotlib.pyplot as plt\n",
        "import seaborn as sns\n",
        "import warnings \n",
        "warnings.filterwarnings('ignore')\n",
        "from sklearn.cluster import KMeans\n"
      ]
    },
    {
      "cell_type": "code",
      "execution_count": null,
      "metadata": {
        "colab": {
          "base_uri": "https://localhost:8080/"
        },
        "id": "QwfpXDiNAZB7",
        "outputId": "029f607e-2a00-44c8-c1cc-1e853fcf5074"
      },
      "outputs": [
        {
          "name": "stdout",
          "output_type": "stream",
          "text": [
            "Drive already mounted at /content/gdrive; to attempt to forcibly remount, call drive.mount(\"/content/gdrive\", force_remount=True).\n"
          ]
        }
      ],
      "source": [
        "from google.colab import drive\n",
        "drive.mount('/content/gdrive')"
      ]
    },
    {
      "cell_type": "code",
      "execution_count": 13,
      "metadata": {
        "id": "T8Z4yz93Abdm"
      },
      "outputs": [],
      "source": [
        "df = pd.read_csv('/content/gdrive/MyDrive/df_tweets.csv')"
      ]
    },
    {
      "cell_type": "code",
      "execution_count": 14,
      "metadata": {
        "colab": {
          "base_uri": "https://localhost:8080/"
        },
        "id": "5yzf9Hsu_f0B",
        "outputId": "69f2f839-5549-45fe-d5d7-fb51154fdc7f"
      },
      "outputs": [
        {
          "output_type": "stream",
          "name": "stdout",
          "text": [
            "<class 'pandas.core.frame.DataFrame'>\n",
            "RangeIndex: 118355 entries, 0 to 118354\n",
            "Columns: 1636 entries, Unnamed: 0 to 999\n",
            "dtypes: float64(635), int64(1001)\n",
            "memory usage: 1.4 GB\n"
          ]
        }
      ],
      "source": [
        "# df = pd.read_pickle('df_tweets.pkl')\n",
        "df.columns = df.columns.astype(str)\n",
        "df.info()"
      ]
    },
    {
      "cell_type": "code",
      "execution_count": 16,
      "metadata": {
        "id": "ZYwjYWs2_f0E"
      },
      "outputs": [],
      "source": [
        "from sklearn.model_selection import train_test_split\n",
        "X_train, X_test = train_test_split(df, test_size=0.95, random_state=42)"
      ]
    },
    {
      "cell_type": "code",
      "source": [
        "# get a smaller sample ~ 5.9K tweets\n",
        "len(X_train)"
      ],
      "metadata": {
        "colab": {
          "base_uri": "https://localhost:8080/"
        },
        "id": "bVcYncrQUUJn",
        "outputId": "8a5266ad-8feb-4d4f-b32c-dea29d7543d7"
      },
      "execution_count": 17,
      "outputs": [
        {
          "output_type": "execute_result",
          "data": {
            "text/plain": [
              "5917"
            ]
          },
          "metadata": {},
          "execution_count": 17
        }
      ]
    },
    {
      "cell_type": "code",
      "execution_count": 18,
      "metadata": {
        "id": "xTO6cmq-_f0F"
      },
      "outputs": [],
      "source": [
        "kmeans_clusters = []\n",
        "for k in range(1, 16):\n",
        "    kmeans_clusters.append(KMeans(n_clusters=k, max_iter=300).fit(X_train))"
      ]
    },
    {
      "cell_type": "code",
      "execution_count": null,
      "metadata": {
        "colab": {
          "background_save": true
        },
        "id": "iWQOx75Z_f0F",
        "outputId": "16ecc401-f054-41c6-9bfc-e3a33cfbdc9c"
      },
      "outputs": [
        {
          "data": {
            "image/png": "[encoded data removed]",
            "text/plain": [
              "<Figure size 432x288 with 1 Axes>"
            ]
          },
          "metadata": {},
          "output_type": "display_data"
        }
      ],
      "source": [
        "# Elbow method to find optimal number of clusters\n",
        "sse_ = []\n",
        "for k in range(1, 16):\n",
        "    kmeans = kmeans_clusters[k-1]\n",
        "    sse_.append([k, kmeans.inertia_])\n",
        "plt.plot(pd.DataFrame(sse_)[0], pd.DataFrame(sse_)[1], 'bx-');\n",
        "plt.xlabel('k')\n",
        "plt.ylabel('Sum of Squared Distances')\n",
        "plt.title('Elbow Method For Optimal k')\n",
        "plt.show()\n"
      ]
    },
    {
      "cell_type": "code",
      "execution_count": 19,
      "metadata": {
        "colab": {
          "base_uri": "https://localhost:8080/",
          "height": 265
        },
        "id": "nzZFl_ab_f0F",
        "outputId": "41963580-4be1-4995-cc69-4c59931bd0d4"
      },
      "outputs": [
        {
          "output_type": "display_data",
          "data": {
            "text/plain": [
              "<Figure size 432x288 with 1 Axes>"
            ],
            "image/png": "[encoded data removed]"
          },
          "metadata": {
            "needs_background": "light"
          }
        }
      ],
      "source": [
        "# Silhouette analysis to find optimal number of clusters\n",
        "from sklearn.metrics import silhouette_samples, silhouette_score\n",
        "ss = []\n",
        "for k in range(2, 16):\n",
        "    kmeans = kmeans_clusters[k-1]\n",
        "    ss.append([k, silhouette_score(X_train, kmeans.labels_)])\n",
        "plt.plot(pd.DataFrame(ss)[0], pd.DataFrame(ss)[1]);"
      ]
    },
    {
      "cell_type": "code",
      "execution_count": 26,
      "metadata": {
        "colab": {
          "base_uri": "https://localhost:8080/"
        },
        "id": "D8zCfaxZ_f0G",
        "outputId": "2accea30-22bb-4530-b183-3df67026af1e"
      },
      "outputs": [
        {
          "output_type": "stream",
          "name": "stdout",
          "text": [
            "number of estimated clusters : 6\n",
            "Silhouette Coefficient: 0.551\n"
          ]
        }
      ],
      "source": [
        "# use Mean Shift to find optimal number of clusters\n",
        "from sklearn.cluster import MeanShift, estimate_bandwidth\n",
        "bandwidth = estimate_bandwidth(X_train, quantile=0.2, n_samples=len(X_train), random_state=42)\n",
        "ms = MeanShift(bandwidth=bandwidth, bin_seeding=True)\n",
        "ms.fit(X_train)\n",
        "labels = ms.labels_\n",
        "cluster_centers = ms.cluster_centers_\n",
        "labels_unique = np.unique(labels)\n",
        "n_clusters_ = len(labels_unique)\n",
        "print(\"number of estimated clusters : %d\" % n_clusters_)\n",
        "print(\"Silhouette Coefficient: %0.3f\" % silhouette_score(X_train, labels))\n"
      ]
    },
    {
      "cell_type": "code",
      "execution_count": 29,
      "metadata": {
        "colab": {
          "base_uri": "https://localhost:8080/"
        },
        "id": "bbbgWVeW_f0E",
        "outputId": "aed3379e-12fa-4231-8e82-a5971f5a5e09"
      },
      "outputs": [
        {
          "output_type": "execute_result",
          "data": {
            "text/plain": [
              "KMeans(max_iter=600, n_clusters=6)"
            ]
          },
          "metadata": {},
          "execution_count": 29
        }
      ],
      "source": [
        "# Fit a KMeans clustering model\n",
        "kmeans = KMeans(n_clusters=6, max_iter=600)\n",
        "kmeans.fit(X_train)"
      ]
    },
    {
      "cell_type": "code",
      "source": [
        "print(\"Clusters: %0.3f\" % len(kmeans.cluster_centers_))\n",
        "print(\"Inertia_: %0.3f\" % kmeans.inertia_)\n",
        "\n",
        "# kmeans model performance metrics\n",
        "from sklearn.metrics import silhouette_score, calinski_harabasz_score, davies_bouldin_score\n",
        "print(\"Silhouette Coefficient: %0.3f\" % silhouette_score(X_train, kmeans.labels_))\n",
        "print(\"Calinski-Harabasz Index: %0.3f\" % calinski_harabasz_score(X_train, kmeans.labels_))\n",
        "print(\"Davies-Bouldin Index: %0.3f\" % davies_bouldin_score(X_train, kmeans.labels_))"
      ],
      "metadata": {
        "colab": {
          "base_uri": "https://localhost:8080/"
        },
        "id": "sz-0Beobn__d",
        "outputId": "20af2583-7629-4a46-b509-a3211e390066"
      },
      "execution_count": 31,
      "outputs": [
        {
          "output_type": "stream",
          "name": "stdout",
          "text": [
            "Clusters: 6.000\n",
            "Inertia_: 188479105929.913\n",
            "Silhouette Coefficient: 0.561\n",
            "Calinski-Harabasz Index: 42563.410\n",
            "Davies-Bouldin Index: 0.497\n"
          ]
        }
      ]
    }
  ],
  "metadata": {
    "colab": {
      "machine_shape": "hm",
      "provenance": []
    },
    "gpuClass": "standard",
    "kernelspec": {
      "display_name": "Python 3 (ipykernel)",
      "language": "python",
      "name": "python3"
    },
    "language_info": {
      "codemirror_mode": {
        "name": "ipython",
        "version": 3
      },
      "file_extension": ".py",
      "mimetype": "text/x-python",
      "name": "python",
      "nbconvert_exporter": "python",
      "pygments_lexer": "ipython3",
      "version": "3.8.10"
    },
    "vscode": {
      "interpreter": {
        "hash": "753e19518da2b2101a1d54ab3a97bd87587dd78d828089b583550e997c6bee0b"
      }
    }
  },
  "nbformat": 4,
  "nbformat_minor": 0
}